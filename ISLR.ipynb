{
 "cells": [
  {
   "cell_type": "markdown",
   "metadata": {},
   "source": [
    "<br>\n",
    "\n",
    "# An Introduction to Statistical Learning\n",
    "with Applications in `R`  \n",
    "Second Edition  \n",
    "Gareth James $\\cdot$ Daniela Witten $\\cdot$ Trevor Hastie $\\cdot$ Robert Tibshirani  \n",
    "\n",
    "Notes by Bonnie Cooper and working out the examples in `Python`  \n",
    "for the course, DATA 622: Machine Learning and Big Data  \n",
    "\n",
    "\n",
    "<img src=\"https://images-na.ssl-images-amazon.com/images/I/41pP5+SAv-L._SX330_BO1,204,203,200_.jpg\" width=\"20%\" style=\"margin-left:auto; margin-right:auto\">\n",
    "\n",
    "<br>"
   ]
  },
  {
   "cell_type": "markdown",
   "metadata": {},
   "source": [
    "**statistical learning** - making sense of complex data sets  \n",
    "**supervised statistical learning** - building a statistical model for predicting or estimating an output based on one of more inputs  \n",
    "**unsupervised statistical learning** - there are inputs, but no supervising outputs; nevertheless, we can learn about relationships and structure in the data.  \n",
    "\n",
    "The goal of this book: become informed users. for technical detail, work through the [ESL](https://web.stanford.edu/~hastie/Papers/ESLII.pdf)  \n",
    "*While it is important to know what job is performed by each cog, it is not necessary to have the skills to construct the machine inside the box!*  \n",
    "\n",
    "<br>"
   ]
  },
  {
   "cell_type": "markdown",
   "metadata": {},
   "source": [
    "## Introduction\n",
    "\n",
    "### Notation\n",
    "\n",
    "* $n$ - number of distinct data points\n",
    "* $p$ - number of feature variables\n",
    "* $\\mathbf{X}$ - an $n \\times p$ matrix whose $(i,j)$th element is represented as $x_{ij}$\n",
    "* $\\mathbf{y}$ - the set of all $n$ observations in vector form\n",
    "* $a \\in \\mathbb{R}$ - a scalar\n",
    "* $a \\in \\mathbb{R}^k$ - a vector with length k\n",
    "* $a \\in \\mathbb{R}^[k\\times d]$ - a matix\n",
    "\n",
    "<br>"
   ]
  },
  {
   "cell_type": "markdown",
   "metadata": {},
   "source": [
    "## Chapter 2 Statistical Learning\n",
    "\n",
    "$\\mathbf{X}$ - the response or dependent variable  \n",
    "$\\mathbf{Y}$ - the predictor(s), independent variable(s) or feature(s)  \n",
    "\n",
    "We assume that there is a relationship between $\\mathbf{Y}$ and $\\mathbf{X}$ such that:  \n",
    "$$\\mathbf{Y} = f(\\mathbf{X}) + \\epsilon $$\n",
    "\n",
    "where:  \n",
    "$f$ - some fixed function (undetermined)  \n",
    "$\\epsilon$ - a random error term  \n",
    "\n",
    "Our goal: estimate $f$ based on the given observations  \n",
    "\n",
    "### Why Estimate $f$?\n",
    "\n",
    "**Prediction** - predict $\\mathbf{Y}$ using $\\hat{ \\mathbf{Y} } = \\hat{f} (\\mathbf{X})$  \n",
    "The accuracy of $\\hat{\\mathbf{Y}}$ depends on two quantities: the reducible error and the irreducible error  \n",
    "**reducible error** - error in our estimate of $f$  \n",
    "**irreducible error** - error in $\\mathbf{Y}$  \n",
    "**expected value** - the squared difference between the actual and the estimated value of $\\mathbf{Y}$  \n",
    "\n",
    "$$\\mathbf{E}(\\mathbf{Y}- \\hat{\\mathbf{Y}})^2 = \\mathbf{E}[f(\\mathbf{X}+\\epsilon -\\hat{f}(\\mathbf{X})]^2] = [f(\\mathbf{X})-\\hat{f}(\\mathbf{X})]^2 + \\mbox{Var}(\\epsilon)$$\n",
    "\n",
    "\n",
    "**Inference** - understand the association between $\\mathbf{Y}$ and $\\mathbf{X}_1,\\dots,\\mathbf{X}_p$  \n",
    "\n",
    "### How Do We Estimate $f$?\n",
    "\n",
    "Our goal is to apply statistical learning to our training data to estimate the unknown function $f$. Basically, we want to find an estimate of $f$ which we will call $\\hat{f}$ such the $\\mathbf{Y}  \\approx \\hat{f}( \\mathbf{X})$  \n",
    "\n",
    "* **Paramteric approach** - involves a two-step model-based  \n",
    "    * make an assumption about the form of the data (ex: assume linearity)\n",
    "    * use a procudure to train\n",
    "    "
   ]
  }
 ],
 "metadata": {
  "kernelspec": {
   "display_name": "Python 3",
   "language": "python",
   "name": "python3"
  },
  "language_info": {
   "codemirror_mode": {
    "name": "ipython",
    "version": 3
   },
   "file_extension": ".py",
   "mimetype": "text/x-python",
   "name": "python",
   "nbconvert_exporter": "python",
   "pygments_lexer": "ipython3",
   "version": "3.7.6"
  }
 },
 "nbformat": 4,
 "nbformat_minor": 4
}
